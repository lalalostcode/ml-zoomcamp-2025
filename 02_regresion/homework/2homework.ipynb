{
 "cells": [
  {
   "cell_type": "code",
   "execution_count": 67,
   "id": "8dff84d6",
   "metadata": {},
   "outputs": [],
   "source": [
    "import pandas as pd\n",
    "import numpy as np\n",
    "from sklearn.model_selection import train_test_split"
   ]
  },
  {
   "cell_type": "code",
   "execution_count": 68,
   "id": "a9f7b70b",
   "metadata": {},
   "outputs": [
    {
     "data": {
      "text/html": [
       "<div>\n",
       "<style scoped>\n",
       "    .dataframe tbody tr th:only-of-type {\n",
       "        vertical-align: middle;\n",
       "    }\n",
       "\n",
       "    .dataframe tbody tr th {\n",
       "        vertical-align: top;\n",
       "    }\n",
       "\n",
       "    .dataframe thead th {\n",
       "        text-align: right;\n",
       "    }\n",
       "</style>\n",
       "<table border=\"1\" class=\"dataframe\">\n",
       "  <thead>\n",
       "    <tr style=\"text-align: right;\">\n",
       "      <th></th>\n",
       "      <th>engine_displacement</th>\n",
       "      <th>num_cylinders</th>\n",
       "      <th>horsepower</th>\n",
       "      <th>vehicle_weight</th>\n",
       "      <th>acceleration</th>\n",
       "      <th>model_year</th>\n",
       "      <th>origin</th>\n",
       "      <th>fuel_type</th>\n",
       "      <th>drivetrain</th>\n",
       "      <th>num_doors</th>\n",
       "      <th>fuel_efficiency_mpg</th>\n",
       "    </tr>\n",
       "  </thead>\n",
       "  <tbody>\n",
       "    <tr>\n",
       "      <th>0</th>\n",
       "      <td>170</td>\n",
       "      <td>3.0</td>\n",
       "      <td>159.0</td>\n",
       "      <td>3413.433759</td>\n",
       "      <td>17.7</td>\n",
       "      <td>2003</td>\n",
       "      <td>Europe</td>\n",
       "      <td>Gasoline</td>\n",
       "      <td>All-wheel drive</td>\n",
       "      <td>0.0</td>\n",
       "      <td>13.231729</td>\n",
       "    </tr>\n",
       "    <tr>\n",
       "      <th>1</th>\n",
       "      <td>130</td>\n",
       "      <td>5.0</td>\n",
       "      <td>97.0</td>\n",
       "      <td>3149.664934</td>\n",
       "      <td>17.8</td>\n",
       "      <td>2007</td>\n",
       "      <td>USA</td>\n",
       "      <td>Gasoline</td>\n",
       "      <td>Front-wheel drive</td>\n",
       "      <td>0.0</td>\n",
       "      <td>13.688217</td>\n",
       "    </tr>\n",
       "    <tr>\n",
       "      <th>2</th>\n",
       "      <td>170</td>\n",
       "      <td>NaN</td>\n",
       "      <td>78.0</td>\n",
       "      <td>3079.038997</td>\n",
       "      <td>15.1</td>\n",
       "      <td>2018</td>\n",
       "      <td>Europe</td>\n",
       "      <td>Gasoline</td>\n",
       "      <td>Front-wheel drive</td>\n",
       "      <td>0.0</td>\n",
       "      <td>14.246341</td>\n",
       "    </tr>\n",
       "    <tr>\n",
       "      <th>3</th>\n",
       "      <td>220</td>\n",
       "      <td>4.0</td>\n",
       "      <td>NaN</td>\n",
       "      <td>2542.392402</td>\n",
       "      <td>20.2</td>\n",
       "      <td>2009</td>\n",
       "      <td>USA</td>\n",
       "      <td>Diesel</td>\n",
       "      <td>All-wheel drive</td>\n",
       "      <td>2.0</td>\n",
       "      <td>16.912736</td>\n",
       "    </tr>\n",
       "    <tr>\n",
       "      <th>4</th>\n",
       "      <td>210</td>\n",
       "      <td>1.0</td>\n",
       "      <td>140.0</td>\n",
       "      <td>3460.870990</td>\n",
       "      <td>14.4</td>\n",
       "      <td>2009</td>\n",
       "      <td>Europe</td>\n",
       "      <td>Gasoline</td>\n",
       "      <td>All-wheel drive</td>\n",
       "      <td>2.0</td>\n",
       "      <td>12.488369</td>\n",
       "    </tr>\n",
       "  </tbody>\n",
       "</table>\n",
       "</div>"
      ],
      "text/plain": [
       "   engine_displacement  num_cylinders  horsepower  vehicle_weight  \\\n",
       "0                  170            3.0       159.0     3413.433759   \n",
       "1                  130            5.0        97.0     3149.664934   \n",
       "2                  170            NaN        78.0     3079.038997   \n",
       "3                  220            4.0         NaN     2542.392402   \n",
       "4                  210            1.0       140.0     3460.870990   \n",
       "\n",
       "   acceleration  model_year  origin fuel_type         drivetrain  num_doors  \\\n",
       "0          17.7        2003  Europe  Gasoline    All-wheel drive        0.0   \n",
       "1          17.8        2007     USA  Gasoline  Front-wheel drive        0.0   \n",
       "2          15.1        2018  Europe  Gasoline  Front-wheel drive        0.0   \n",
       "3          20.2        2009     USA    Diesel    All-wheel drive        2.0   \n",
       "4          14.4        2009  Europe  Gasoline    All-wheel drive        2.0   \n",
       "\n",
       "   fuel_efficiency_mpg  \n",
       "0            13.231729  \n",
       "1            13.688217  \n",
       "2            14.246341  \n",
       "3            16.912736  \n",
       "4            12.488369  "
      ]
     },
     "execution_count": 68,
     "metadata": {},
     "output_type": "execute_result"
    }
   ],
   "source": [
    "df = pd.read_csv('C:\\\\Local D\\\\Galeri Belajar\\\\Project\\\\ML Zoomcamp 2025\\\\ml-zoomcamp-2025\\\\02_regresion\\\\homework\\\\data\\\\car_fuel_efficiency.csv')\n",
    "df.head()"
   ]
  },
  {
   "cell_type": "code",
   "execution_count": 69,
   "id": "2847cf69",
   "metadata": {},
   "outputs": [
    {
     "data": {
      "text/html": [
       "<div>\n",
       "<style scoped>\n",
       "    .dataframe tbody tr th:only-of-type {\n",
       "        vertical-align: middle;\n",
       "    }\n",
       "\n",
       "    .dataframe tbody tr th {\n",
       "        vertical-align: top;\n",
       "    }\n",
       "\n",
       "    .dataframe thead th {\n",
       "        text-align: right;\n",
       "    }\n",
       "</style>\n",
       "<table border=\"1\" class=\"dataframe\">\n",
       "  <thead>\n",
       "    <tr style=\"text-align: right;\">\n",
       "      <th></th>\n",
       "      <th>engine_displacement</th>\n",
       "      <th>horsepower</th>\n",
       "      <th>vehicle_weight</th>\n",
       "      <th>model_year</th>\n",
       "      <th>fuel_efficiency_mpg</th>\n",
       "    </tr>\n",
       "  </thead>\n",
       "  <tbody>\n",
       "    <tr>\n",
       "      <th>0</th>\n",
       "      <td>170</td>\n",
       "      <td>159.0</td>\n",
       "      <td>3413.433759</td>\n",
       "      <td>2003</td>\n",
       "      <td>13.231729</td>\n",
       "    </tr>\n",
       "    <tr>\n",
       "      <th>1</th>\n",
       "      <td>130</td>\n",
       "      <td>97.0</td>\n",
       "      <td>3149.664934</td>\n",
       "      <td>2007</td>\n",
       "      <td>13.688217</td>\n",
       "    </tr>\n",
       "    <tr>\n",
       "      <th>2</th>\n",
       "      <td>170</td>\n",
       "      <td>78.0</td>\n",
       "      <td>3079.038997</td>\n",
       "      <td>2018</td>\n",
       "      <td>14.246341</td>\n",
       "    </tr>\n",
       "    <tr>\n",
       "      <th>3</th>\n",
       "      <td>220</td>\n",
       "      <td>NaN</td>\n",
       "      <td>2542.392402</td>\n",
       "      <td>2009</td>\n",
       "      <td>16.912736</td>\n",
       "    </tr>\n",
       "    <tr>\n",
       "      <th>4</th>\n",
       "      <td>210</td>\n",
       "      <td>140.0</td>\n",
       "      <td>3460.870990</td>\n",
       "      <td>2009</td>\n",
       "      <td>12.488369</td>\n",
       "    </tr>\n",
       "  </tbody>\n",
       "</table>\n",
       "</div>"
      ],
      "text/plain": [
       "   engine_displacement  horsepower  vehicle_weight  model_year  \\\n",
       "0                  170       159.0     3413.433759        2003   \n",
       "1                  130        97.0     3149.664934        2007   \n",
       "2                  170        78.0     3079.038997        2018   \n",
       "3                  220         NaN     2542.392402        2009   \n",
       "4                  210       140.0     3460.870990        2009   \n",
       "\n",
       "   fuel_efficiency_mpg  \n",
       "0            13.231729  \n",
       "1            13.688217  \n",
       "2            14.246341  \n",
       "3            16.912736  \n",
       "4            12.488369  "
      ]
     },
     "execution_count": 69,
     "metadata": {},
     "output_type": "execute_result"
    }
   ],
   "source": [
    "columns_to_use = ['engine_displacement', 'horsepower', 'vehicle_weight', 'model_year', 'fuel_efficiency_mpg']\n",
    "df = df[columns_to_use]\n",
    "df.head()"
   ]
  },
  {
   "cell_type": "markdown",
   "id": "dc47d6f4",
   "metadata": {},
   "source": [
    "# EDA"
   ]
  },
  {
   "cell_type": "code",
   "execution_count": 70,
   "id": "8cf8576b",
   "metadata": {},
   "outputs": [
    {
     "data": {
      "text/plain": [
       "<Axes: xlabel='fuel_efficiency_mpg', ylabel='Count'>"
      ]
     },
     "execution_count": 70,
     "metadata": {},
     "output_type": "execute_result"
    },
    {
     "data": {
      "image/png": "[encoded data removed]",
      "text/plain": [
       "<Figure size 640x480 with 1 Axes>"
      ]
     },
     "metadata": {},
     "output_type": "display_data"
    }
   ],
   "source": [
    "import seaborn as sns\n",
    "\n",
    "sns.histplot(df.fuel_efficiency_mpg)"
   ]
  },
  {
   "cell_type": "markdown",
   "id": "e91dc2fa",
   "metadata": {},
   "source": [
    "Doesn't have long tail"
   ]
  },
  {
   "cell_type": "markdown",
   "id": "3fb02a25",
   "metadata": {},
   "source": [
    "# Q1"
   ]
  },
  {
   "cell_type": "code",
   "execution_count": 71,
   "id": "d533ce35",
   "metadata": {},
   "outputs": [
    {
     "data": {
      "text/plain": [
       "engine_displacement      0\n",
       "horsepower             708\n",
       "vehicle_weight           0\n",
       "model_year               0\n",
       "fuel_efficiency_mpg      0\n",
       "dtype: int64"
      ]
     },
     "execution_count": 71,
     "metadata": {},
     "output_type": "execute_result"
    }
   ],
   "source": [
    "df.isnull().sum()"
   ]
  },
  {
   "cell_type": "markdown",
   "id": "0b1e11a5",
   "metadata": {},
   "source": [
    "# Q2"
   ]
  },
  {
   "cell_type": "code",
   "execution_count": 72,
   "id": "4d633b7a",
   "metadata": {},
   "outputs": [
    {
     "name": "stdout",
     "output_type": "stream",
     "text": [
      "149.0\n"
     ]
    }
   ],
   "source": [
    "median = df.horsepower.median()\n",
    "print(median)"
   ]
  },
  {
   "cell_type": "markdown",
   "id": "a36758c5",
   "metadata": {},
   "source": [
    "# Q3"
   ]
  },
  {
   "cell_type": "code",
   "execution_count": 73,
   "id": "09b2a5be",
   "metadata": {},
   "outputs": [],
   "source": [
    "n = len(df)\n",
    "n_val = int (n*0.2)\n",
    "n_test = int(n*0.2)\n",
    "n_train = n - n_val - n_test"
   ]
  },
  {
   "cell_type": "code",
   "execution_count": 74,
   "id": "53e95b6b",
   "metadata": {},
   "outputs": [
    {
     "data": {
      "text/plain": [
       "(1940, 1940, 5824)"
      ]
     },
     "execution_count": 74,
     "metadata": {},
     "output_type": "execute_result"
    }
   ],
   "source": [
    "n_val, n_test, n_train"
   ]
  },
  {
   "cell_type": "code",
   "execution_count": 75,
   "id": "ee755287",
   "metadata": {},
   "outputs": [],
   "source": [
    "df_val = df.iloc[:n_val]\n",
    "df_test = df.iloc[n_val:n_val+n_test]\n",
    "df_train = df.iloc[n_val+n_test:]"
   ]
  },
  {
   "cell_type": "markdown",
   "id": "9937f958",
   "metadata": {},
   "source": [
    "# Q4"
   ]
  },
  {
   "cell_type": "code",
   "execution_count": 76,
   "id": "39d2f3c4",
   "metadata": {},
   "outputs": [],
   "source": [
    "def train_linear_regression(X, y):\n",
    "    ones = np.ones(X.shape[0])\n",
    "    Xb = np.column_stack([ones, X])\n",
    "    XTX = Xb.T.dot(Xb)\n",
    "    XTX_inv = np.linalg.inv(XTX)\n",
    "    w_full = XTX_inv.dot(Xb.T).dot(y)\n",
    "    return float(w_full[0]), w_full[1:]"
   ]
  },
  {
   "cell_type": "code",
   "execution_count": 77,
   "id": "11e23e03",
   "metadata": {},
   "outputs": [],
   "source": [
    "def rmse(y, y_pred):\n",
    "    err = y_pred - y\n",
    "    mse = (err ** 2).mean()\n",
    "    return float(np.sqrt(mse))"
   ]
  },
  {
   "cell_type": "code",
   "execution_count": 78,
   "id": "1ede0ffc",
   "metadata": {},
   "outputs": [],
   "source": [
    "# shuffle and split (recommended)\n",
    "n = len(df)\n",
    "idx = np.arange(n)\n",
    "np.random.seed(2)\n",
    "np.random.shuffle(idx)"
   ]
  },
  {
   "cell_type": "code",
   "execution_count": 79,
   "id": "b08b7365",
   "metadata": {},
   "outputs": [],
   "source": [
    "df_train = df.iloc[idx[:n_train]].reset_index(drop=True)\n",
    "df_val = df.iloc[idx[n_train:n_train+n_val]].reset_index(drop=True)\n",
    "df_test = df.iloc[idx[n_train+n_val:]].reset_index(drop=True)\n",
    "\n",
    "features = ['engine_displacement', 'horsepower', 'vehicle_weight', 'model_year']\n",
    "target = 'fuel_efficiency_mpg'"
   ]
  },
  {
   "cell_type": "code",
   "execution_count": 80,
   "id": "ba09b839",
   "metadata": {},
   "outputs": [],
   "source": [
    "# Option 1: fill horsepower with 0\n",
    "df_train_0 = df_train.copy()\n",
    "df_val_0 = df_val.copy()\n",
    "df_train_0['horsepower'] = df_train_0['horsepower'].fillna(0)\n",
    "df_val_0['horsepower'] = df_val_0['horsepower'].fillna(0)\n",
    "# safety: fill other numeric NaNs with 0\n",
    "df_train_0 = df_train_0.fillna(0)\n",
    "df_val_0 = df_val_0.fillna(0)"
   ]
  },
  {
   "cell_type": "code",
   "execution_count": 81,
   "id": "367aa447",
   "metadata": {},
   "outputs": [],
   "source": [
    "X_train_0 = df_train_0[features].values\n",
    "y_train = df_train_0[target].values.astype(float)\n",
    "X_val_0 = df_val_0[features].values\n",
    "y_val = df_val_0[target].values.astype(float)"
   ]
  },
  {
   "cell_type": "code",
   "execution_count": 82,
   "id": "0aaf29d8",
   "metadata": {},
   "outputs": [],
   "source": [
    "w0_0, w_0 = train_linear_regression(X_train_0, y_train)\n",
    "y_pred_val_0 = w0_0 + X_val_0.dot(w_0)\n",
    "rmse_0 = round(rmse(y_val, y_pred_val_0), 2)"
   ]
  },
  {
   "cell_type": "code",
   "execution_count": 83,
   "id": "70d99781",
   "metadata": {},
   "outputs": [
    {
     "name": "stdout",
     "output_type": "stream",
     "text": [
      "RMSE (fill=0): 0.52\n",
      "RMSE (fill=mean): 0.47\n",
      "Better: With mean\n"
     ]
    }
   ],
   "source": [
    "# Option 2: fill horsepower with train mean (compute mean on training only)\n",
    "df_train_m = df_train.copy()\n",
    "df_val_m = df_val.copy()\n",
    "hp_mean = df_train_m['horsepower'].mean(skipna=True)\n",
    "if np.isnan(hp_mean):\n",
    "    hp_mean = 0.0\n",
    "df_train_m['horsepower'] = df_train_m['horsepower'].fillna(hp_mean)\n",
    "df_val_m['horsepower'] = df_val_m['horsepower'].fillna(hp_mean)\n",
    "df_train_m = df_train_m.fillna(0)\n",
    "df_val_m = df_val_m.fillna(0)\n",
    "\n",
    "X_train_m = df_train_m[features].values\n",
    "X_val_m = df_val_m[features].values\n",
    "\n",
    "w0_m, w_m = train_linear_regression(X_train_m, y_train)  # same y_train (target)\n",
    "y_pred_val_m = w0_m + X_val_m.dot(w_m)\n",
    "rmse_m = round(rmse(y_val, y_pred_val_m), 2)\n",
    "\n",
    "print(\"RMSE (fill=0):\", rmse_0)\n",
    "print(\"RMSE (fill=mean):\", rmse_m)\n",
    "\n",
    "if rmse_0 < rmse_m:\n",
    "    print(\"Better: With 0\")\n",
    "elif rmse_m < rmse_0:\n",
    "    print(\"Better: With mean\")\n",
    "else:\n",
    "    print(\"Both are equally good\")"
   ]
  },
  {
   "cell_type": "markdown",
   "id": "c8ab2ee7",
   "metadata": {},
   "source": [
    "# Q5"
   ]
  },
  {
   "cell_type": "code",
   "execution_count": 84,
   "id": "291d8b61",
   "metadata": {},
   "outputs": [
    {
     "name": "stdout",
     "output_type": "stream",
     "text": [
      "r -> RMSE (rounded): [(0, 0.52), (0.01, 0.52), (0.1, 0.52), (1, 0.52), (5, 0.52), (10, 0.52), (100, 0.52)]\n",
      "Best r: 0 RMSE: 0.52\n"
     ]
    }
   ],
   "source": [
    "# Q5: regularization\n",
    "def train_linear_regression_reg(X, y, r=0.0):\n",
    "    # regularized OLS (ridge). Do NOT regularize intercept.\n",
    "    n_samples = X.shape[0]\n",
    "    ones = np.ones(n_samples)\n",
    "    Xb = np.column_stack([ones, X])\n",
    "    XTX = Xb.T.dot(Xb)\n",
    "    reg = r * np.eye(XTX.shape[0])\n",
    "    reg[0, 0] = 0.0\n",
    "    XTX_reg = XTX + reg\n",
    "    w_full = np.linalg.inv(XTX_reg).dot(Xb.T).dot(y)\n",
    "    return float(w_full[0]), w_full[1:]\n",
    "\n",
    "# For this question: fill NAs with 0 (reuse df_train_0 / df_val_0 if present)\n",
    "df_train_reg = df_train.copy().fillna(0)\n",
    "df_val_reg = df_val.copy().fillna(0)\n",
    "\n",
    "X_train_reg = df_train_reg[features].values\n",
    "y_train_reg = df_train_reg[target].values.astype(float)\n",
    "X_val_reg = df_val_reg[features].values\n",
    "y_val_reg = df_val_reg[target].values.astype(float)\n",
    "\n",
    "rs = [0, 0.01, 0.1, 1, 5, 10, 100]\n",
    "results = []\n",
    "for r in rs:\n",
    "    w0_r, w_r = train_linear_regression_reg(X_train_reg, y_train_reg, r=r)\n",
    "    y_pred = w0_r + X_val_reg.dot(w_r)\n",
    "    score = round(rmse(y_val_reg, y_pred), 2)\n",
    "    results.append((r, score))\n",
    "\n",
    "# choose smallest RMSE; if tie, choose smallest r\n",
    "min_score = min(s for (_, s) in results)\n",
    "candidate_rs = [r for (r, s) in results if s == min_score]\n",
    "best_r = min(candidate_rs)\n",
    "\n",
    "print(\"r -> RMSE (rounded):\", results)\n",
    "print(\"Best r:\", best_r, \"RMSE:\", min_score)\n"
   ]
  },
  {
   "cell_type": "markdown",
   "id": "a33d3f7b",
   "metadata": {},
   "source": [
    "# Q5"
   ]
  },
  {
   "cell_type": "code",
   "execution_count": 85,
   "id": "f3bdf002",
   "metadata": {},
   "outputs": [
    {
     "name": "stdout",
     "output_type": "stream",
     "text": [
      "RMSEs: [0.521, 0.521, 0.523, 0.516, 0.511, 0.528, 0.531, 0.509, 0.515, 0.513]\n",
      "std (rounded to 3): 0.007\n"
     ]
    }
   ],
   "source": [
    "seeds = list(range(10))\n",
    "rmses = []\n",
    "\n",
    "n = len(df)\n",
    "n_val = int(n * 0.2)\n",
    "n_test = int(n * 0.2)\n",
    "n_train = n - n_val - n_test  # 60% train\n",
    "for seed in seeds:\n",
    "    idx = np.arange(n)\n",
    "    np.random.seed(seed)\n",
    "    np.random.shuffle(idx)\n",
    "\n",
    "    df_train = df.iloc[idx[:n_train]].reset_index(drop=True)\n",
    "    df_val = df.iloc[idx[n_train:n_train+n_val]].reset_index(drop=True)\n",
    "\n",
    "    df_train_f = df_train.copy().fillna(0)\n",
    "    df_val_f = df_val.copy().fillna(0)\n",
    "\n",
    "    X_train = df_train_f[features].values\n",
    "    y_train = df_train_f[target].values.astype(float)\n",
    "    X_val = df_val_f[features].values\n",
    "    y_val = df_val_f[target].values.astype(float)\n",
    "\n",
    "    w0, w = train_linear_regression(X_train, y_train)\n",
    "    y_pred = w0 + X_val.dot(w)\n",
    "    score = rmse(y_val, y_pred)\n",
    "    rmses.append(score)\n",
    "\n",
    "std = np.std(rmses)\n",
    "print(\"RMSEs:\", [round(s, 3) for s in rmses])\n",
    "print(\"std (rounded to 3):\", round(std, 3))"
   ]
  },
  {
   "cell_type": "markdown",
   "id": "7b10340c",
   "metadata": {},
   "source": [
    "# Q6"
   ]
  },
  {
   "cell_type": "code",
   "execution_count": 86,
   "id": "77788633",
   "metadata": {},
   "outputs": [
    {
     "name": "stdout",
     "output_type": "stream",
     "text": [
      "r: 0.001 test RMSE (rounded to 3): 0.516\n"
     ]
    }
   ],
   "source": [
    "seed = 9\n",
    "n = len(df)\n",
    "idx = np.arange(n)\n",
    "np.random.seed(seed)\n",
    "np.random.shuffle(idx)\n",
    "\n",
    "n_val = int(n * 0.2)\n",
    "n_test = int(n * 0.2)\n",
    "n_train = n - n_val - n_test\n",
    "\n",
    "df_train = df.iloc[idx[:n_train]].reset_index(drop=True)\n",
    "df_val = df.iloc[idx[n_train:n_train+n_val]].reset_index(drop=True)\n",
    "df_test = df.iloc[idx[n_train+n_val:]].reset_index(drop=True)\n",
    "\n",
    "# combine train + val\n",
    "df_train_full = pd.concat([df_train, df_val]).reset_index(drop=True)\n",
    "\n",
    "# fill NAs with 0\n",
    "df_train_full = df_train_full.fillna(0)\n",
    "df_test_f = df_test.copy().fillna(0)\n",
    "\n",
    "features = ['engine_displacement', 'horsepower', 'vehicle_weight', 'model_year']\n",
    "target = 'fuel_efficiency_mpg'\n",
    "\n",
    "X_train_full = df_train_full[features].values\n",
    "y_train_full = df_train_full[target].values.astype(float)\n",
    "X_test = df_test_f[features].values\n",
    "y_test = df_test_f[target].values.astype(float)\n",
    "\n",
    "def train_linear_regression_reg(X, y, r=0.0):\n",
    "    ones = np.ones(X.shape[0])\n",
    "    Xb = np.column_stack([ones, X])\n",
    "    XTX = Xb.T.dot(Xb)\n",
    "    reg = r * np.eye(XTX.shape[0])\n",
    "    reg[0,0] = 0.0\n",
    "    w_full = np.linalg.inv(XTX + reg).dot(Xb.T).dot(y)\n",
    "    return float(w_full[0]), w_full[1:]\n",
    "\n",
    "r = 0.001\n",
    "w0, w = train_linear_regression_reg(X_train_full, y_train_full, r=r)\n",
    "y_pred_test = w0 + X_test.dot(w)\n",
    "test_rmse = round(rmse(y_test, y_pred_test), 3)\n",
    "print(\"r:\", r, \"test RMSE (rounded to 3):\", test_rmse)"
   ]
  }
 ],
 "metadata": {
  "kernelspec": {
   "display_name": "Python 3",
   "language": "python",
   "name": "python3"
  },
  "language_info": {
   "codemirror_mode": {
    "name": "ipython",
    "version": 3
   },
   "file_extension": ".py",
   "mimetype": "text/x-python",
   "name": "python",
   "nbconvert_exporter": "python",
   "pygments_lexer": "ipython3",
   "version": "3.11.9"
  }
 },
 "nbformat": 4,
 "nbformat_minor": 5
}
