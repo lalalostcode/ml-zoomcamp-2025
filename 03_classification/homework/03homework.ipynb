{
 "cells": [
  {
   "cell_type": "code",
   "execution_count": 75,
   "id": "970f5c22",
   "metadata": {},
   "outputs": [],
   "source": [
    "import numpy as np\n",
    "import pandas as pd\n",
    "import matplotlib.pyplot as plt\n"
   ]
  },
  {
   "cell_type": "code",
   "execution_count": 76,
   "id": "33835018",
   "metadata": {},
   "outputs": [
    {
     "data": {
      "text/html": [
       "<div>\n",
       "<style scoped>\n",
       "    .dataframe tbody tr th:only-of-type {\n",
       "        vertical-align: middle;\n",
       "    }\n",
       "\n",
       "    .dataframe tbody tr th {\n",
       "        vertical-align: top;\n",
       "    }\n",
       "\n",
       "    .dataframe thead th {\n",
       "        text-align: right;\n",
       "    }\n",
       "</style>\n",
       "<table border=\"1\" class=\"dataframe\">\n",
       "  <thead>\n",
       "    <tr style=\"text-align: right;\">\n",
       "      <th></th>\n",
       "      <th>age</th>\n",
       "      <th>job</th>\n",
       "      <th>marital</th>\n",
       "      <th>education</th>\n",
       "      <th>default</th>\n",
       "      <th>balance</th>\n",
       "      <th>housing</th>\n",
       "      <th>loan</th>\n",
       "      <th>contact</th>\n",
       "      <th>day</th>\n",
       "      <th>month</th>\n",
       "      <th>duration</th>\n",
       "      <th>campaign</th>\n",
       "      <th>pdays</th>\n",
       "      <th>previous</th>\n",
       "      <th>poutcome</th>\n",
       "      <th>y</th>\n",
       "    </tr>\n",
       "  </thead>\n",
       "  <tbody>\n",
       "    <tr>\n",
       "      <th>0</th>\n",
       "      <td>58</td>\n",
       "      <td>management</td>\n",
       "      <td>married</td>\n",
       "      <td>tertiary</td>\n",
       "      <td>no</td>\n",
       "      <td>2143</td>\n",
       "      <td>yes</td>\n",
       "      <td>no</td>\n",
       "      <td>unknown</td>\n",
       "      <td>5</td>\n",
       "      <td>may</td>\n",
       "      <td>261</td>\n",
       "      <td>1</td>\n",
       "      <td>-1</td>\n",
       "      <td>0</td>\n",
       "      <td>unknown</td>\n",
       "      <td>no</td>\n",
       "    </tr>\n",
       "    <tr>\n",
       "      <th>1</th>\n",
       "      <td>44</td>\n",
       "      <td>technician</td>\n",
       "      <td>single</td>\n",
       "      <td>secondary</td>\n",
       "      <td>no</td>\n",
       "      <td>29</td>\n",
       "      <td>yes</td>\n",
       "      <td>no</td>\n",
       "      <td>unknown</td>\n",
       "      <td>5</td>\n",
       "      <td>may</td>\n",
       "      <td>151</td>\n",
       "      <td>1</td>\n",
       "      <td>-1</td>\n",
       "      <td>0</td>\n",
       "      <td>unknown</td>\n",
       "      <td>no</td>\n",
       "    </tr>\n",
       "    <tr>\n",
       "      <th>2</th>\n",
       "      <td>33</td>\n",
       "      <td>entrepreneur</td>\n",
       "      <td>married</td>\n",
       "      <td>secondary</td>\n",
       "      <td>no</td>\n",
       "      <td>2</td>\n",
       "      <td>yes</td>\n",
       "      <td>yes</td>\n",
       "      <td>unknown</td>\n",
       "      <td>5</td>\n",
       "      <td>may</td>\n",
       "      <td>76</td>\n",
       "      <td>1</td>\n",
       "      <td>-1</td>\n",
       "      <td>0</td>\n",
       "      <td>unknown</td>\n",
       "      <td>no</td>\n",
       "    </tr>\n",
       "    <tr>\n",
       "      <th>3</th>\n",
       "      <td>47</td>\n",
       "      <td>blue-collar</td>\n",
       "      <td>married</td>\n",
       "      <td>unknown</td>\n",
       "      <td>no</td>\n",
       "      <td>1506</td>\n",
       "      <td>yes</td>\n",
       "      <td>no</td>\n",
       "      <td>unknown</td>\n",
       "      <td>5</td>\n",
       "      <td>may</td>\n",
       "      <td>92</td>\n",
       "      <td>1</td>\n",
       "      <td>-1</td>\n",
       "      <td>0</td>\n",
       "      <td>unknown</td>\n",
       "      <td>no</td>\n",
       "    </tr>\n",
       "    <tr>\n",
       "      <th>4</th>\n",
       "      <td>33</td>\n",
       "      <td>unknown</td>\n",
       "      <td>single</td>\n",
       "      <td>unknown</td>\n",
       "      <td>no</td>\n",
       "      <td>1</td>\n",
       "      <td>no</td>\n",
       "      <td>no</td>\n",
       "      <td>unknown</td>\n",
       "      <td>5</td>\n",
       "      <td>may</td>\n",
       "      <td>198</td>\n",
       "      <td>1</td>\n",
       "      <td>-1</td>\n",
       "      <td>0</td>\n",
       "      <td>unknown</td>\n",
       "      <td>no</td>\n",
       "    </tr>\n",
       "  </tbody>\n",
       "</table>\n",
       "</div>"
      ],
      "text/plain": [
       "   age           job  marital  education default  balance housing loan  \\\n",
       "0   58    management  married   tertiary      no     2143     yes   no   \n",
       "1   44    technician   single  secondary      no       29     yes   no   \n",
       "2   33  entrepreneur  married  secondary      no        2     yes  yes   \n",
       "3   47   blue-collar  married    unknown      no     1506     yes   no   \n",
       "4   33       unknown   single    unknown      no        1      no   no   \n",
       "\n",
       "   contact  day month  duration  campaign  pdays  previous poutcome   y  \n",
       "0  unknown    5   may       261         1     -1         0  unknown  no  \n",
       "1  unknown    5   may       151         1     -1         0  unknown  no  \n",
       "2  unknown    5   may        76         1     -1         0  unknown  no  \n",
       "3  unknown    5   may        92         1     -1         0  unknown  no  \n",
       "4  unknown    5   may       198         1     -1         0  unknown  no  "
      ]
     },
     "execution_count": 76,
     "metadata": {},
     "output_type": "execute_result"
    }
   ],
   "source": [
    "df = pd.read_csv(r'C:\\Local D\\Galeri Belajar\\Project\\ML Zoomcamp 2025\\ml-zoomcamp-2025\\03_classification\\homework\\data\\bank\\bank-full.csv',sep=';')\n",
    "df.head()"
   ]
  },
  {
   "cell_type": "code",
   "execution_count": 77,
   "id": "9899976a",
   "metadata": {},
   "outputs": [
    {
     "data": {
      "text/html": [
       "<div>\n",
       "<style scoped>\n",
       "    .dataframe tbody tr th:only-of-type {\n",
       "        vertical-align: middle;\n",
       "    }\n",
       "\n",
       "    .dataframe tbody tr th {\n",
       "        vertical-align: top;\n",
       "    }\n",
       "\n",
       "    .dataframe thead th {\n",
       "        text-align: right;\n",
       "    }\n",
       "</style>\n",
       "<table border=\"1\" class=\"dataframe\">\n",
       "  <thead>\n",
       "    <tr style=\"text-align: right;\">\n",
       "      <th></th>\n",
       "      <th>age</th>\n",
       "      <th>job</th>\n",
       "      <th>marital</th>\n",
       "      <th>education</th>\n",
       "      <th>balance</th>\n",
       "      <th>housing</th>\n",
       "      <th>contact</th>\n",
       "      <th>day</th>\n",
       "      <th>month</th>\n",
       "      <th>duration</th>\n",
       "      <th>campaign</th>\n",
       "      <th>pdays</th>\n",
       "      <th>previous</th>\n",
       "      <th>poutcome</th>\n",
       "      <th>y</th>\n",
       "    </tr>\n",
       "  </thead>\n",
       "  <tbody>\n",
       "    <tr>\n",
       "      <th>0</th>\n",
       "      <td>58</td>\n",
       "      <td>management</td>\n",
       "      <td>married</td>\n",
       "      <td>tertiary</td>\n",
       "      <td>2143</td>\n",
       "      <td>yes</td>\n",
       "      <td>unknown</td>\n",
       "      <td>5</td>\n",
       "      <td>may</td>\n",
       "      <td>261</td>\n",
       "      <td>1</td>\n",
       "      <td>-1</td>\n",
       "      <td>0</td>\n",
       "      <td>unknown</td>\n",
       "      <td>no</td>\n",
       "    </tr>\n",
       "    <tr>\n",
       "      <th>1</th>\n",
       "      <td>44</td>\n",
       "      <td>technician</td>\n",
       "      <td>single</td>\n",
       "      <td>secondary</td>\n",
       "      <td>29</td>\n",
       "      <td>yes</td>\n",
       "      <td>unknown</td>\n",
       "      <td>5</td>\n",
       "      <td>may</td>\n",
       "      <td>151</td>\n",
       "      <td>1</td>\n",
       "      <td>-1</td>\n",
       "      <td>0</td>\n",
       "      <td>unknown</td>\n",
       "      <td>no</td>\n",
       "    </tr>\n",
       "    <tr>\n",
       "      <th>2</th>\n",
       "      <td>33</td>\n",
       "      <td>entrepreneur</td>\n",
       "      <td>married</td>\n",
       "      <td>secondary</td>\n",
       "      <td>2</td>\n",
       "      <td>yes</td>\n",
       "      <td>unknown</td>\n",
       "      <td>5</td>\n",
       "      <td>may</td>\n",
       "      <td>76</td>\n",
       "      <td>1</td>\n",
       "      <td>-1</td>\n",
       "      <td>0</td>\n",
       "      <td>unknown</td>\n",
       "      <td>no</td>\n",
       "    </tr>\n",
       "    <tr>\n",
       "      <th>3</th>\n",
       "      <td>47</td>\n",
       "      <td>blue-collar</td>\n",
       "      <td>married</td>\n",
       "      <td>unknown</td>\n",
       "      <td>1506</td>\n",
       "      <td>yes</td>\n",
       "      <td>unknown</td>\n",
       "      <td>5</td>\n",
       "      <td>may</td>\n",
       "      <td>92</td>\n",
       "      <td>1</td>\n",
       "      <td>-1</td>\n",
       "      <td>0</td>\n",
       "      <td>unknown</td>\n",
       "      <td>no</td>\n",
       "    </tr>\n",
       "    <tr>\n",
       "      <th>4</th>\n",
       "      <td>33</td>\n",
       "      <td>unknown</td>\n",
       "      <td>single</td>\n",
       "      <td>unknown</td>\n",
       "      <td>1</td>\n",
       "      <td>no</td>\n",
       "      <td>unknown</td>\n",
       "      <td>5</td>\n",
       "      <td>may</td>\n",
       "      <td>198</td>\n",
       "      <td>1</td>\n",
       "      <td>-1</td>\n",
       "      <td>0</td>\n",
       "      <td>unknown</td>\n",
       "      <td>no</td>\n",
       "    </tr>\n",
       "  </tbody>\n",
       "</table>\n",
       "</div>"
      ],
      "text/plain": [
       "   age           job  marital  education  balance housing  contact  day month  \\\n",
       "0   58    management  married   tertiary     2143     yes  unknown    5   may   \n",
       "1   44    technician   single  secondary       29     yes  unknown    5   may   \n",
       "2   33  entrepreneur  married  secondary        2     yes  unknown    5   may   \n",
       "3   47   blue-collar  married    unknown     1506     yes  unknown    5   may   \n",
       "4   33       unknown   single    unknown        1      no  unknown    5   may   \n",
       "\n",
       "   duration  campaign  pdays  previous poutcome   y  \n",
       "0       261         1     -1         0  unknown  no  \n",
       "1       151         1     -1         0  unknown  no  \n",
       "2        76         1     -1         0  unknown  no  \n",
       "3        92         1     -1         0  unknown  no  \n",
       "4       198         1     -1         0  unknown  no  "
      ]
     },
     "execution_count": 77,
     "metadata": {},
     "output_type": "execute_result"
    }
   ],
   "source": [
    "columns = ['age', 'job', 'marital', 'education', 'balance', 'housing', 'contact', 'day', 'month', 'duration', 'campaign', 'pdays', 'previous', 'poutcome', 'y']\n",
    "df[columns].head()"
   ]
  },
  {
   "cell_type": "code",
   "execution_count": 78,
   "id": "cc436d19",
   "metadata": {},
   "outputs": [
    {
     "data": {
      "text/plain": [
       "age          0\n",
       "job          0\n",
       "marital      0\n",
       "education    0\n",
       "default      0\n",
       "balance      0\n",
       "housing      0\n",
       "loan         0\n",
       "contact      0\n",
       "day          0\n",
       "month        0\n",
       "duration     0\n",
       "campaign     0\n",
       "pdays        0\n",
       "previous     0\n",
       "poutcome     0\n",
       "y            0\n",
       "dtype: int64"
      ]
     },
     "execution_count": 78,
     "metadata": {},
     "output_type": "execute_result"
    }
   ],
   "source": [
    "df.isnull().sum()"
   ]
  },
  {
   "cell_type": "markdown",
   "id": "b37731d5",
   "metadata": {},
   "source": [
    "# Q1"
   ]
  },
  {
   "cell_type": "code",
   "execution_count": 79,
   "id": "419efc4b",
   "metadata": {},
   "outputs": [
    {
     "data": {
      "text/plain": [
       "'secondary'"
      ]
     },
     "execution_count": 79,
     "metadata": {},
     "output_type": "execute_result"
    }
   ],
   "source": [
    "df['education'].mode()[0]"
   ]
  },
  {
   "cell_type": "markdown",
   "id": "e0d90be8",
   "metadata": {},
   "source": [
    "# Q2"
   ]
  },
  {
   "cell_type": "code",
   "execution_count": 80,
   "id": "0cfc93cb",
   "metadata": {},
   "outputs": [
    {
     "data": {
      "text/plain": [
       "<Axes: >"
      ]
     },
     "execution_count": 80,
     "metadata": {},
     "output_type": "execute_result"
    },
    {
     "data": {
      "image/png": "[encoded data removed]",
      "text/plain": [
       "<Figure size 640x480 with 2 Axes>"
      ]
     },
     "metadata": {},
     "output_type": "display_data"
    }
   ],
   "source": [
    "import seaborn as sns\n",
    "corr_matrix = df.corr(numeric_only=True)\n",
    "sns.heatmap(corr_matrix, annot=True, cmap='coolwarm')"
   ]
  },
  {
   "cell_type": "markdown",
   "id": "db6d01c7",
   "metadata": {},
   "source": [
    "From the image we know that the biggest pair is pdays and previous"
   ]
  },
  {
   "cell_type": "code",
   "execution_count": 81,
   "id": "7fbfd2d7",
   "metadata": {},
   "outputs": [],
   "source": [
    "target = 'y'"
   ]
  },
  {
   "cell_type": "code",
   "execution_count": 82,
   "id": "85f98881",
   "metadata": {},
   "outputs": [],
   "source": [
    "df.y = (df.y == 'yes').astype(int)"
   ]
  },
  {
   "cell_type": "code",
   "execution_count": 83,
   "id": "16b76164",
   "metadata": {},
   "outputs": [],
   "source": [
    "from sklearn.model_selection import train_test_split\n",
    "df_train_full, df_test = train_test_split(df, test_size=0.2, random_state=42)\n",
    "df_train, df_val = train_test_split(df_train_full, test_size=0.25, random_state=42)"
   ]
  },
  {
   "cell_type": "code",
   "execution_count": 84,
   "id": "2677509f",
   "metadata": {},
   "outputs": [],
   "source": [
    "y_train = df_train[target].values\n",
    "y_val = df_val[target].values\n",
    "y_test = df_test[target].values"
   ]
  },
  {
   "cell_type": "code",
   "execution_count": 85,
   "id": "13f2c3a6",
   "metadata": {},
   "outputs": [],
   "source": [
    "df_train = df_train.drop(columns=[target]).reset_index(drop=True)\n",
    "df_val = df_val.drop(columns=[target]).reset_index(drop=True)\n",
    "df_test = df_test.drop(columns=[target]).reset_index(drop=True)"
   ]
  },
  {
   "cell_type": "markdown",
   "id": "5e71f417",
   "metadata": {},
   "source": [
    "# Q3"
   ]
  },
  {
   "cell_type": "code",
   "execution_count": 86,
   "id": "54dccb40",
   "metadata": {},
   "outputs": [],
   "source": [
    "\n",
    "from sklearn.metrics import mutual_info_score"
   ]
  },
  {
   "cell_type": "code",
   "execution_count": 87,
   "id": "7080dfba",
   "metadata": {},
   "outputs": [
    {
     "data": {
      "text/plain": [
       "balance      0.103479\n",
       "duration     0.095623\n",
       "pdays        0.034775\n",
       "poutcome     0.029257\n",
       "month        0.024774\n",
       "contact      0.014164\n",
       "age          0.013488\n",
       "previous     0.013151\n",
       "housing      0.009800\n",
       "job          0.007765\n",
       "day          0.006033\n",
       "campaign     0.004515\n",
       "loan         0.002509\n",
       "education    0.002458\n",
       "marital      0.002019\n",
       "default      0.000339\n",
       "dtype: float64"
      ]
     },
     "execution_count": 87,
     "metadata": {},
     "output_type": "execute_result"
    }
   ],
   "source": [
    "\n",
    "def compute_mi(series):\n",
    "    # use the correct dataframe name (df_train_full) and the target column 'y'\n",
    "    return mutual_info_score(series, df_train_full['y'])\n",
    "\n",
    "# apply to feature columns (exclude the target itself)\n",
    "mi = df_train_full.drop(columns=['y']).apply(compute_mi)\n",
    "mi = mi.sort_values(ascending=False)\n",
    "mi"
   ]
  },
  {
   "cell_type": "markdown",
   "id": "f42751cd",
   "metadata": {},
   "source": [
    "-> Contact"
   ]
  },
  {
   "cell_type": "markdown",
   "id": "dfda5dcf",
   "metadata": {},
   "source": [
    "# Q4"
   ]
  },
  {
   "cell_type": "code",
   "execution_count": 88,
   "id": "bb47014f",
   "metadata": {},
   "outputs": [
    {
     "name": "stdout",
     "output_type": "stream",
     "text": [
      "Validation accuracy (rounded to 2 decimals): 0.9\n"
     ]
    }
   ],
   "source": [
    "from sklearn.linear_model import LogisticRegression\n",
    "from sklearn.metrics import accuracy_score\n",
    "\n",
    "# one-hot encode categorical variables, align train and val\n",
    "X_train = pd.get_dummies(df_train, drop_first=True)\n",
    "X_val = pd.get_dummies(df_val, drop_first=True)\n",
    "X_train, X_val = X_train.align(X_val, join='left', axis=1, fill_value=0)\n",
    "\n",
    "# fit logistic regression with required parameters\n",
    "model = LogisticRegression(solver='liblinear', C=1.0, max_iter=1000, random_state=42)\n",
    "model.fit(X_train.values, y_train)\n",
    "\n",
    "# predict and evaluate\n",
    "y_pred = model.predict(X_val.values)\n",
    "acc = round(accuracy_score(y_val, y_pred), 2)\n",
    "print(\"Validation accuracy (rounded to 2 decimals):\", acc)"
   ]
  },
  {
   "cell_type": "markdown",
   "id": "f848d80b",
   "metadata": {},
   "source": [
    "# Q5"
   ]
  },
  {
   "cell_type": "code",
   "execution_count": 89,
   "id": "a29a21e6",
   "metadata": {},
   "outputs": [
    {
     "name": "stdout",
     "output_type": "stream",
     "text": [
      "age       acc_without=0.9006  diff=-0.0001\n",
      "balance   acc_without=0.9004  diff=0.0001\n",
      "marital   acc_without=0.9011  diff=-0.0007\n",
      "previous  acc_without=0.9001  diff=0.0003\n",
      "\n",
      "Least useful feature (smallest difference): marital\n"
     ]
    }
   ],
   "source": [
    "from sklearn.linear_model import LogisticRegression\n",
    "from sklearn.metrics import accuracy_score\n",
    "\n",
    "# baseline model (use all features)\n",
    "X_train_all = pd.get_dummies(df_train, drop_first=True)\n",
    "X_val_all = pd.get_dummies(df_val, drop_first=True)\n",
    "X_train_all, X_val_all = X_train_all.align(X_val_all, join='left', axis=1, fill_value=0)\n",
    "\n",
    "model = LogisticRegression(solver='liblinear', C=1.0, max_iter=1000, random_state=42)\n",
    "model.fit(X_train_all.values, y_train)\n",
    "acc_orig = accuracy_score(y_val, model.predict(X_val_all.values))\n",
    "\n",
    "features_to_test = ['age', 'balance', 'marital', 'previous']\n",
    "results = {}\n",
    "\n",
    "for feat in features_to_test:\n",
    "    # drop the feature from copies of the dataframes\n",
    "    X_train_tmp = df_train.drop(columns=[feat])\n",
    "    X_val_tmp = df_val.drop(columns=[feat])\n",
    "\n",
    "    # one-hot encode and align\n",
    "    X_train_tmp = pd.get_dummies(X_train_tmp, drop_first=True)\n",
    "    X_val_tmp = pd.get_dummies(X_val_tmp, drop_first=True)\n",
    "    X_train_tmp, X_val_tmp = X_train_tmp.align(X_val_tmp, join='left', axis=1, fill_value=0)\n",
    "\n",
    "    # train and evaluate\n",
    "    model_tmp = LogisticRegression(solver='liblinear', C=1.0, max_iter=1000, random_state=42)\n",
    "    model_tmp.fit(X_train_tmp.values, y_train)\n",
    "    acc_tmp = accuracy_score(y_val, model_tmp.predict(X_val_tmp.values))\n",
    "\n",
    "    # record difference (original - without_feature)\n",
    "    diff = acc_orig - acc_tmp\n",
    "    results[feat] = {'acc_without': acc_tmp, 'diff': diff}\n",
    "\n",
    "# print results and the least useful feature (smallest diff)\n",
    "for feat, info in results.items():\n",
    "    print(f\"{feat:8s}  acc_without={info['acc_without']:.4f}  diff={info['diff']:.4f}\")\n",
    "\n",
    "least_useful = min(results.items(), key=lambda x: x[1]['diff'])[0]\n",
    "print(\"\\nLeast useful feature (smallest difference):\", least_useful)"
   ]
  },
  {
   "cell_type": "markdown",
   "id": "b607cf5a",
   "metadata": {},
   "source": [
    "# Q5"
   ]
  },
  {
   "cell_type": "code",
   "execution_count": 90,
   "id": "250f1c2a",
   "metadata": {},
   "outputs": [
    {
     "name": "stdout",
     "output_type": "stream",
     "text": [
      "C=  0.01  acc=0.897810  acc_rounded=0.898\n",
      "C=   0.1  acc=0.900907  acc_rounded=0.901\n",
      "C=     1  acc=0.900464  acc_rounded=0.900\n",
      "C=    10  acc=0.901239  acc_rounded=0.901\n",
      "C=   100  acc=0.900575  acc_rounded=0.901\n",
      "\n",
      "Best C: 10 validation accuracy (rounded to 3): 0.901\n"
     ]
    }
   ],
   "source": [
    "\n",
    "from sklearn.linear_model import LogisticRegression\n",
    "from sklearn.metrics import accuracy_score\n",
    "\n",
    "# prepare one-hot features and align\n",
    "X_train = pd.get_dummies(df_train, drop_first=True)\n",
    "X_val = pd.get_dummies(df_val, drop_first=True)\n",
    "X_train, X_val = X_train.align(X_val, join='left', axis=1, fill_value=0)\n",
    "\n",
    "Cs = [0.01, 0.1, 1, 10, 100]\n",
    "results = []\n",
    "\n",
    "for C in Cs:\n",
    "    model = LogisticRegression(solver='liblinear', C=C, max_iter=1000, random_state=42)\n",
    "    model.fit(X_train.values, y_train)\n",
    "    acc = accuracy_score(y_val, model.predict(X_val.values))\n",
    "    acc_rounded = round(acc, 3)\n",
    "    results.append((C, acc, acc_rounded))\n",
    "    print(f\"C={C:6}  acc={acc:.6f}  acc_rounded={acc_rounded:.3f}\")\n",
    "\n",
    "# choose best C (if tie, choose smallest C)\n",
    "best_acc = max(r[1] for r in results)\n",
    "best_cs = [r[0] for r in results if r[1] == best_acc]\n",
    "best_C = min(best_cs)\n",
    "best_acc_rounded = round(best_acc, 3)\n",
    "print(\"\\nBest C:\", best_C, \"validation accuracy (rounded to 3):\", best_acc_rounded)"
   ]
  }
 ],
 "metadata": {
  "kernelspec": {
   "display_name": "Python 3",
   "language": "python",
   "name": "python3"
  },
  "language_info": {
   "codemirror_mode": {
    "name": "ipython",
    "version": 3
   },
   "file_extension": ".py",
   "mimetype": "text/x-python",
   "name": "python",
   "nbconvert_exporter": "python",
   "pygments_lexer": "ipython3",
   "version": "3.11.9"
  }
 },
 "nbformat": 4,
 "nbformat_minor": 5
}
