{
 "cells": [
  {
   "cell_type": "code",
   "execution_count": 145,
   "id": "dc179a00",
   "metadata": {},
   "outputs": [],
   "source": [
    "import numpy as np\n",
    "import pandas as pd\n",
    "import matplotlib.pyplot as plt"
   ]
  },
  {
   "cell_type": "code",
   "execution_count": 146,
   "id": "33e6ee7b",
   "metadata": {},
   "outputs": [
    {
     "data": {
      "text/html": [
       "<div>\n",
       "<style scoped>\n",
       "    .dataframe tbody tr th:only-of-type {\n",
       "        vertical-align: middle;\n",
       "    }\n",
       "\n",
       "    .dataframe tbody tr th {\n",
       "        vertical-align: top;\n",
       "    }\n",
       "\n",
       "    .dataframe thead th {\n",
       "        text-align: right;\n",
       "    }\n",
       "</style>\n",
       "<table border=\"1\" class=\"dataframe\">\n",
       "  <thead>\n",
       "    <tr style=\"text-align: right;\">\n",
       "      <th></th>\n",
       "      <th>lead_source</th>\n",
       "      <th>industry</th>\n",
       "      <th>number_of_courses_viewed</th>\n",
       "      <th>annual_income</th>\n",
       "      <th>employment_status</th>\n",
       "      <th>location</th>\n",
       "      <th>interaction_count</th>\n",
       "      <th>lead_score</th>\n",
       "      <th>converted</th>\n",
       "    </tr>\n",
       "  </thead>\n",
       "  <tbody>\n",
       "    <tr>\n",
       "      <th>0</th>\n",
       "      <td>paid_ads</td>\n",
       "      <td>NaN</td>\n",
       "      <td>1</td>\n",
       "      <td>79450.0</td>\n",
       "      <td>unemployed</td>\n",
       "      <td>south_america</td>\n",
       "      <td>4</td>\n",
       "      <td>0.94</td>\n",
       "      <td>1</td>\n",
       "    </tr>\n",
       "    <tr>\n",
       "      <th>1</th>\n",
       "      <td>social_media</td>\n",
       "      <td>retail</td>\n",
       "      <td>1</td>\n",
       "      <td>46992.0</td>\n",
       "      <td>employed</td>\n",
       "      <td>south_america</td>\n",
       "      <td>1</td>\n",
       "      <td>0.80</td>\n",
       "      <td>0</td>\n",
       "    </tr>\n",
       "    <tr>\n",
       "      <th>2</th>\n",
       "      <td>events</td>\n",
       "      <td>healthcare</td>\n",
       "      <td>5</td>\n",
       "      <td>78796.0</td>\n",
       "      <td>unemployed</td>\n",
       "      <td>australia</td>\n",
       "      <td>3</td>\n",
       "      <td>0.69</td>\n",
       "      <td>1</td>\n",
       "    </tr>\n",
       "    <tr>\n",
       "      <th>3</th>\n",
       "      <td>paid_ads</td>\n",
       "      <td>retail</td>\n",
       "      <td>2</td>\n",
       "      <td>83843.0</td>\n",
       "      <td>NaN</td>\n",
       "      <td>australia</td>\n",
       "      <td>1</td>\n",
       "      <td>0.87</td>\n",
       "      <td>0</td>\n",
       "    </tr>\n",
       "    <tr>\n",
       "      <th>4</th>\n",
       "      <td>referral</td>\n",
       "      <td>education</td>\n",
       "      <td>3</td>\n",
       "      <td>85012.0</td>\n",
       "      <td>self_employed</td>\n",
       "      <td>europe</td>\n",
       "      <td>3</td>\n",
       "      <td>0.62</td>\n",
       "      <td>1</td>\n",
       "    </tr>\n",
       "  </tbody>\n",
       "</table>\n",
       "</div>"
      ],
      "text/plain": [
       "    lead_source    industry  number_of_courses_viewed  annual_income  \\\n",
       "0      paid_ads         NaN                         1        79450.0   \n",
       "1  social_media      retail                         1        46992.0   \n",
       "2        events  healthcare                         5        78796.0   \n",
       "3      paid_ads      retail                         2        83843.0   \n",
       "4      referral   education                         3        85012.0   \n",
       "\n",
       "  employment_status       location  interaction_count  lead_score  converted  \n",
       "0        unemployed  south_america                  4        0.94          1  \n",
       "1          employed  south_america                  1        0.80          0  \n",
       "2        unemployed      australia                  3        0.69          1  \n",
       "3               NaN      australia                  1        0.87          0  \n",
       "4     self_employed         europe                  3        0.62          1  "
      ]
     },
     "execution_count": 146,
     "metadata": {},
     "output_type": "execute_result"
    }
   ],
   "source": [
    "url = \"https://raw.githubusercontent.com/alexeygrigorev/datasets/master/course_lead_scoring.csv\"\n",
    "df = pd.read_csv(url)\n",
    "df.head()"
   ]
  },
  {
   "cell_type": "markdown",
   "id": "b96ddc36",
   "metadata": {},
   "source": [
    "# Data preparation"
   ]
  },
  {
   "cell_type": "code",
   "execution_count": 147,
   "id": "86d95ba7",
   "metadata": {},
   "outputs": [
    {
     "data": {
      "text/plain": [
       "lead_source                  object\n",
       "industry                     object\n",
       "number_of_courses_viewed      int64\n",
       "annual_income               float64\n",
       "employment_status            object\n",
       "location                     object\n",
       "interaction_count             int64\n",
       "lead_score                  float64\n",
       "converted                     int64\n",
       "dtype: object"
      ]
     },
     "execution_count": 147,
     "metadata": {},
     "output_type": "execute_result"
    }
   ],
   "source": [
    "df.dtypes"
   ]
  },
  {
   "cell_type": "code",
   "execution_count": 148,
   "id": "f283885c",
   "metadata": {},
   "outputs": [
    {
     "data": {
      "text/plain": [
       "lead_source                 128\n",
       "industry                    134\n",
       "number_of_courses_viewed      0\n",
       "annual_income               181\n",
       "employment_status           100\n",
       "location                     63\n",
       "interaction_count             0\n",
       "lead_score                    0\n",
       "converted                     0\n",
       "dtype: int64"
      ]
     },
     "execution_count": 148,
     "metadata": {},
     "output_type": "execute_result"
    }
   ],
   "source": [
    "df.isna().sum()"
   ]
  },
  {
   "cell_type": "code",
   "execution_count": 149,
   "id": "142de189",
   "metadata": {},
   "outputs": [],
   "source": [
    "categorical = df.select_dtypes(include=['object']).columns\n",
    "numerical = df.select_dtypes(include=['int64', 'float64']).columns"
   ]
  },
  {
   "cell_type": "code",
   "execution_count": 150,
   "id": "2a9c3ee4",
   "metadata": {},
   "outputs": [
    {
     "name": "stderr",
     "output_type": "stream",
     "text": [
      "C:\\Users\\LOQ 15\\AppData\\Local\\Temp\\ipykernel_17768\\3182191308.py:1: SettingWithCopyWarning: \n",
      "A value is trying to be set on a copy of a slice from a DataFrame\n",
      "\n",
      "See the caveats in the documentation: https://pandas.pydata.org/pandas-docs/stable/user_guide/indexing.html#returning-a-view-versus-a-copy\n",
      "  df[categorical].fillna('NA', inplace=True)\n",
      "C:\\Users\\LOQ 15\\AppData\\Local\\Temp\\ipykernel_17768\\3182191308.py:2: SettingWithCopyWarning: \n",
      "A value is trying to be set on a copy of a slice from a DataFrame\n",
      "\n",
      "See the caveats in the documentation: https://pandas.pydata.org/pandas-docs/stable/user_guide/indexing.html#returning-a-view-versus-a-copy\n",
      "  df[numerical].fillna(0.0, inplace=True)\n"
     ]
    }
   ],
   "source": [
    "df[categorical].fillna('NA', inplace=True)\n",
    "df[numerical].fillna(0.0, inplace=True)"
   ]
  },
  {
   "cell_type": "markdown",
   "id": "6ba83c5b",
   "metadata": {},
   "source": [
    "# Q1"
   ]
  },
  {
   "cell_type": "code",
   "execution_count": 151,
   "id": "5a6f0b1e",
   "metadata": {},
   "outputs": [
    {
     "data": {
      "text/plain": [
       "'retail'"
      ]
     },
     "execution_count": 151,
     "metadata": {},
     "output_type": "execute_result"
    }
   ],
   "source": [
    "df.industry.mode()[0]"
   ]
  },
  {
   "cell_type": "markdown",
   "id": "a315279e",
   "metadata": {},
   "source": [
    "# Q2"
   ]
  },
  {
   "cell_type": "code",
   "execution_count": 152,
   "id": "4701e984",
   "metadata": {},
   "outputs": [
    {
     "data": {
      "text/plain": [
       "<Axes: >"
      ]
     },
     "execution_count": 152,
     "metadata": {},
     "output_type": "execute_result"
    },
    {
     "data": {
      "image/png": "[encoded data removed]",
      "text/plain": [
       "<Figure size 640x480 with 2 Axes>"
      ]
     },
     "metadata": {},
     "output_type": "display_data"
    }
   ],
   "source": [
    "import seaborn as sns\n",
    "corr_matrix = df.corr(numeric_only=True)\n",
    "sns.heatmap(corr_matrix, annot=True, cmap='coolwarm')"
   ]
  },
  {
   "cell_type": "markdown",
   "id": "d8f57c7a",
   "metadata": {},
   "source": [
    "annual_income and interaction_count"
   ]
  },
  {
   "cell_type": "markdown",
   "id": "abcf3027",
   "metadata": {},
   "source": [
    "# Q2    "
   ]
  },
  {
   "cell_type": "code",
   "execution_count": 153,
   "id": "c3e84e41",
   "metadata": {},
   "outputs": [],
   "source": [
    "target = 'y'\n"
   ]
  },
  {
   "cell_type": "code",
   "execution_count": 154,
   "id": "b3efaeb5",
   "metadata": {},
   "outputs": [],
   "source": [
    "from sklearn.model_selection import train_test_split\n",
    "df_train_full, df_test = train_test_split(df, test_size=0.2, random_state=42)\n",
    "df_train, df_val = train_test_split(df_train_full, test_size=0.25, random_state=42)"
   ]
  },
  {
   "cell_type": "code",
   "execution_count": 155,
   "id": "8b2e7210",
   "metadata": {},
   "outputs": [],
   "source": [
    "y_train = df_train['converted'].values\n",
    "y_val = df_val['converted'].values\n",
    "y_test = df_test['converted'].values"
   ]
  },
  {
   "cell_type": "code",
   "execution_count": 156,
   "id": "886ce0cb",
   "metadata": {},
   "outputs": [],
   "source": [
    "df_train = df_train.drop(columns=['converted']).reset_index(drop=True)\n",
    "df_val = df_val.drop(columns=['converted']).reset_index(drop=True)\n",
    "df_test = df_test.drop(columns=['converted']).reset_index(drop=True)"
   ]
  },
  {
   "cell_type": "markdown",
   "id": "95d681a9",
   "metadata": {},
   "source": [
    "# Q3"
   ]
  },
  {
   "cell_type": "code",
   "execution_count": 157,
   "id": "35decade",
   "metadata": {},
   "outputs": [
    {
     "name": "stderr",
     "output_type": "stream",
     "text": [
      "C:\\Users\\LOQ 15\\AppData\\Local\\Packages\\PythonSoftwareFoundation.Python.3.11_qbz5n2kfra8p0\\LocalCache\\local-packages\\Python311\\site-packages\\sklearn\\metrics\\cluster\\_supervised.py:49: UserWarning: The number of unique classes is greater than 50% of the number of samples. `y` could represent a regression problem, not a classification problem.\n",
      "  type_label = type_of_target(labels_true)\n",
      "C:\\Users\\LOQ 15\\AppData\\Local\\Packages\\PythonSoftwareFoundation.Python.3.11_qbz5n2kfra8p0\\LocalCache\\local-packages\\Python311\\site-packages\\sklearn\\metrics\\cluster\\_supervised.py:58: UserWarning: Clustering metrics expects discrete values but received continuous values for label, and binary values for target\n",
      "  warnings.warn(msg, UserWarning)\n"
     ]
    },
    {
     "data": {
      "text/plain": [
       "annual_income               0.581609\n",
       "number_of_courses_viewed    0.121089\n",
       "interaction_count           0.083195\n",
       "lead_score                  0.068899\n",
       "lead_source                 0.025665\n",
       "employment_status           0.013258\n",
       "industry                    0.011685\n",
       "location                    0.002253\n",
       "dtype: float64"
      ]
     },
     "execution_count": 157,
     "metadata": {},
     "output_type": "execute_result"
    }
   ],
   "source": [
    "from sklearn.metrics import mutual_info_score\n",
    "\n",
    "# Fill missing values for categorical and numerical columns\n",
    "df_mi = df_train_full.copy()\n",
    "df_mi[categorical] = df_mi[categorical].fillna('NA')\n",
    "df_mi[numerical.drop('converted')] = df_mi[numerical.drop('converted')].fillna(0.0)\n",
    "\n",
    "def compute_mi(series):\n",
    "    return mutual_info_score(series, df_mi['converted'])\n",
    "\n",
    "mi = df_mi.drop(columns=['converted']).apply(compute_mi)\n",
    "mi = mi.sort_values(ascending=False)\n",
    "mi"
   ]
  },
  {
   "cell_type": "markdown",
   "id": "d3d69750",
   "metadata": {},
   "source": [
    "# Q4"
   ]
  },
  {
   "cell_type": "code",
   "execution_count": 158,
   "id": "a2222d33",
   "metadata": {},
   "outputs": [
    {
     "name": "stdout",
     "output_type": "stream",
     "text": [
      "Validation accuracy (rounded to 2): 0.7\n"
     ]
    }
   ],
   "source": [
    "from sklearn.linear_model import LogisticRegression\n",
    "from sklearn.metrics import accuracy_score\n",
    "\n",
    "# one-hot encode and align\n",
    "X_train = pd.get_dummies(df_train, drop_first=True)\n",
    "X_val = pd.get_dummies(df_val, drop_first=True)\n",
    "X_train, X_val = X_train.align(X_val, join='left', axis=1, fill_value=0)\n",
    "\n",
    "# Fill missing values with 0\n",
    "X_train = X_train.fillna(0)\n",
    "X_val = X_val.fillna(0)\n",
    "\n",
    "model = LogisticRegression(solver='liblinear', C=1.0, max_iter=1000, random_state=42)\n",
    "model.fit(X_train.values, y_train)\n",
    "\n",
    "acc = accuracy_score(y_val, model.predict(X_val.values))\n",
    "print(\"Validation accuracy (rounded to 2):\", round(acc, 2))"
   ]
  },
  {
   "cell_type": "markdown",
   "id": "caa9aac6",
   "metadata": {},
   "source": [
    "# Q5"
   ]
  },
  {
   "cell_type": "code",
   "execution_count": 161,
   "id": "d4203fdb",
   "metadata": {},
   "outputs": [
    {
     "name": "stdout",
     "output_type": "stream",
     "text": [
      "Baseline accuracy (all features): 0.699659\n",
      "\n",
      "industry             acc_without=0.699659  diff=0.000000\n",
      "employment_status    acc_without=0.696246  diff=0.003413\n",
      "lead_score           acc_without=0.692833  diff=0.006826\n",
      "\n",
      "Least useful feature (smallest abs diff): industry\n"
     ]
    }
   ],
   "source": [
    "from sklearn.linear_model import LogisticRegression\n",
    "from sklearn.metrics import accuracy_score\n",
    "\n",
    "# features to test\n",
    "features_to_test = ['industry', 'employment_status', 'lead_score']\n",
    "\n",
    "# baseline with all features (one-hot encoded)\n",
    "X_train_all = pd.get_dummies(df_train, drop_first=True)\n",
    "X_val_all = pd.get_dummies(df_val, drop_first=True)\n",
    "X_train_all, X_val_all = X_train_all.align(X_val_all, join='left', axis=1, fill_value=0)\n",
    "X_train_all = X_train_all.fillna(0)\n",
    "X_val_all = X_val_all.fillna(0)\n",
    "\n",
    "model = LogisticRegression(solver='liblinear', C=1.0, max_iter=1000, random_state=42)\n",
    "model.fit(X_train_all.values, y_train)\n",
    "acc_orig = accuracy_score(y_val, model.predict(X_val_all.values))\n",
    "\n",
    "results = {}\n",
    "for feat in features_to_test:\n",
    "    if feat not in df_train.columns:\n",
    "        print(f\"Feature '{feat}' not found in df_train — skipping\")\n",
    "        continue\n",
    "\n",
    "    # drop original column (categorical or numeric) before one-hot encoding\n",
    "    X_train_tmp = df_train.drop(columns=[feat])\n",
    "    X_val_tmp = df_val.drop(columns=[feat])\n",
    "\n",
    "    X_train_tmp = pd.get_dummies(X_train_tmp, drop_first=True)\n",
    "    X_val_tmp = pd.get_dummies(X_val_tmp, drop_first=True)\n",
    "    X_train_tmp, X_val_tmp = X_train_tmp.align(X_val_tmp, join='left', axis=1, fill_value=0)\n",
    "    X_train_tmp = X_train_tmp.fillna(0)\n",
    "    X_val_tmp = X_val_tmp.fillna(0)\n",
    "\n",
    "    model_tmp = LogisticRegression(solver='liblinear', C=1.0, max_iter=1000, random_state=42)\n",
    "    model_tmp.fit(X_train_tmp.values, y_train)\n",
    "    acc_tmp = accuracy_score(y_val, model_tmp.predict(X_val_tmp.values))\n",
    "\n",
    "    diff = acc_orig - acc_tmp\n",
    "    results[feat] = {'acc_without': acc_tmp, 'diff': diff, 'abs_diff': abs(diff)}\n",
    "\n",
    "# print results\n",
    "print(f\"Baseline accuracy (all features): {acc_orig:.6f}\\n\")\n",
    "for feat, info in results.items():\n",
    "    print(f\"{feat:20s} acc_without={info['acc_without']:.6f}  diff={info['diff']:.6f}\")\n",
    "\n",
    "# least useful = smallest absolute difference\n",
    "if results:\n",
    "    least_useful = min(results.items(), key=lambda x: x[1]['abs_diff'])[0]\n",
    "    print(\"\\nLeast useful feature (smallest abs diff):\", least_useful)\n"
   ]
  },
  {
   "cell_type": "markdown",
   "id": "fef6d3fc",
   "metadata": {},
   "source": [
    "# Q6"
   ]
  },
  {
   "cell_type": "code",
   "execution_count": 162,
   "id": "da027713",
   "metadata": {},
   "outputs": [
    {
     "name": "stdout",
     "output_type": "stream",
     "text": [
      "C=0.01    acc=0.696246  acc_rounded=0.696\n",
      "C=0.1     acc=0.699659  acc_rounded=0.700\n",
      "C=1       acc=0.699659  acc_rounded=0.700\n",
      "C=10      acc=0.699659  acc_rounded=0.700\n",
      "C=100     acc=0.699659  acc_rounded=0.700\n",
      "\n",
      "Best C: 0.1 validation accuracy (rounded to 3): 0.7\n"
     ]
    }
   ],
   "source": [
    "from sklearn.linear_model import LogisticRegression\n",
    "from sklearn.metrics import accuracy_score\n",
    "\n",
    "# prepare one-hot features and align (same as Q4)\n",
    "X_train = pd.get_dummies(df_train, drop_first=True)\n",
    "X_val = pd.get_dummies(df_val, drop_first=True)\n",
    "X_train, X_val = X_train.align(X_val, join='left', axis=1, fill_value=0)\n",
    "X_train = X_train.fillna(0)\n",
    "X_val = X_val.fillna(0)\n",
    "\n",
    "Cs = [0.01, 0.1, 1, 10, 100]\n",
    "results = []\n",
    "\n",
    "for C in Cs:\n",
    "    model = LogisticRegression(solver='liblinear', C=C, max_iter=1000, random_state=42)\n",
    "    model.fit(X_train.values, y_train)\n",
    "    acc = accuracy_score(y_val, model.predict(X_val.values))\n",
    "    results.append((C, acc))\n",
    "    print(f\"C={C:<6}  acc={acc:.6f}  acc_rounded={round(acc,3):.3f}\")\n",
    "\n",
    "# choose best C (if tie, pick smallest C)\n",
    "best_acc = max(r[1] for r in results)\n",
    "best_cs = [r[0] for r in results if r[1] == best_acc]\n",
    "best_C = min(best_cs)\n",
    "print(\"\\nBest C:\", best_C, \"validation accuracy (rounded to 3):\", round(best_acc, 3))"
   ]
  }
 ],
 "metadata": {
  "kernelspec": {
   "display_name": "Python 3",
   "language": "python",
   "name": "python3"
  },
  "language_info": {
   "codemirror_mode": {
    "name": "ipython",
    "version": 3
   },
   "file_extension": ".py",
   "mimetype": "text/x-python",
   "name": "python",
   "nbconvert_exporter": "python",
   "pygments_lexer": "ipython3",
   "version": "3.11.9"
  }
 },
 "nbformat": 4,
 "nbformat_minor": 5
}
