{
 "cells": [
  {
   "cell_type": "markdown",
   "id": "33d55750",
   "metadata": {},
   "source": [
    "# Data Preparation"
   ]
  },
  {
   "cell_type": "code",
   "execution_count": 57,
   "id": "2a54bf12",
   "metadata": {},
   "outputs": [
    {
     "data": {
      "text/html": [
       "<div>\n",
       "<style scoped>\n",
       "    .dataframe tbody tr th:only-of-type {\n",
       "        vertical-align: middle;\n",
       "    }\n",
       "\n",
       "    .dataframe tbody tr th {\n",
       "        vertical-align: top;\n",
       "    }\n",
       "\n",
       "    .dataframe thead th {\n",
       "        text-align: right;\n",
       "    }\n",
       "</style>\n",
       "<table border=\"1\" class=\"dataframe\">\n",
       "  <thead>\n",
       "    <tr style=\"text-align: right;\">\n",
       "      <th></th>\n",
       "      <th>lead_source</th>\n",
       "      <th>industry</th>\n",
       "      <th>number_of_courses_viewed</th>\n",
       "      <th>annual_income</th>\n",
       "      <th>employment_status</th>\n",
       "      <th>location</th>\n",
       "      <th>interaction_count</th>\n",
       "      <th>lead_score</th>\n",
       "      <th>converted</th>\n",
       "    </tr>\n",
       "  </thead>\n",
       "  <tbody>\n",
       "    <tr>\n",
       "      <th>0</th>\n",
       "      <td>paid_ads</td>\n",
       "      <td>NaN</td>\n",
       "      <td>1</td>\n",
       "      <td>79450.0</td>\n",
       "      <td>unemployed</td>\n",
       "      <td>south_america</td>\n",
       "      <td>4</td>\n",
       "      <td>0.94</td>\n",
       "      <td>1</td>\n",
       "    </tr>\n",
       "    <tr>\n",
       "      <th>1</th>\n",
       "      <td>social_media</td>\n",
       "      <td>retail</td>\n",
       "      <td>1</td>\n",
       "      <td>46992.0</td>\n",
       "      <td>employed</td>\n",
       "      <td>south_america</td>\n",
       "      <td>1</td>\n",
       "      <td>0.80</td>\n",
       "      <td>0</td>\n",
       "    </tr>\n",
       "    <tr>\n",
       "      <th>2</th>\n",
       "      <td>events</td>\n",
       "      <td>healthcare</td>\n",
       "      <td>5</td>\n",
       "      <td>78796.0</td>\n",
       "      <td>unemployed</td>\n",
       "      <td>australia</td>\n",
       "      <td>3</td>\n",
       "      <td>0.69</td>\n",
       "      <td>1</td>\n",
       "    </tr>\n",
       "    <tr>\n",
       "      <th>3</th>\n",
       "      <td>paid_ads</td>\n",
       "      <td>retail</td>\n",
       "      <td>2</td>\n",
       "      <td>83843.0</td>\n",
       "      <td>NaN</td>\n",
       "      <td>australia</td>\n",
       "      <td>1</td>\n",
       "      <td>0.87</td>\n",
       "      <td>0</td>\n",
       "    </tr>\n",
       "    <tr>\n",
       "      <th>4</th>\n",
       "      <td>referral</td>\n",
       "      <td>education</td>\n",
       "      <td>3</td>\n",
       "      <td>85012.0</td>\n",
       "      <td>self_employed</td>\n",
       "      <td>europe</td>\n",
       "      <td>3</td>\n",
       "      <td>0.62</td>\n",
       "      <td>1</td>\n",
       "    </tr>\n",
       "  </tbody>\n",
       "</table>\n",
       "</div>"
      ],
      "text/plain": [
       "    lead_source    industry  number_of_courses_viewed  annual_income  \\\n",
       "0      paid_ads         NaN                         1        79450.0   \n",
       "1  social_media      retail                         1        46992.0   \n",
       "2        events  healthcare                         5        78796.0   \n",
       "3      paid_ads      retail                         2        83843.0   \n",
       "4      referral   education                         3        85012.0   \n",
       "\n",
       "  employment_status       location  interaction_count  lead_score  converted  \n",
       "0        unemployed  south_america                  4        0.94          1  \n",
       "1          employed  south_america                  1        0.80          0  \n",
       "2        unemployed      australia                  3        0.69          1  \n",
       "3               NaN      australia                  1        0.87          0  \n",
       "4     self_employed         europe                  3        0.62          1  "
      ]
     },
     "execution_count": 57,
     "metadata": {},
     "output_type": "execute_result"
    }
   ],
   "source": [
    "import numpy as np\n",
    "import pandas as pd\n",
    "from sklearn.model_selection import train_test_split, KFold\n",
    "from sklearn.feature_extraction import DictVectorizer\n",
    "from sklearn.linear_model import LogisticRegression\n",
    "from sklearn.metrics import roc_auc_score, precision_score, recall_score\n",
    "\n",
    "path = 'https://raw.githubusercontent.com/alexeygrigorev/datasets/master/course_lead_scoring.csv'\n",
    "df = pd.read_csv(path)\n",
    "\n",
    "df.head()"
   ]
  },
  {
   "cell_type": "code",
   "execution_count": 58,
   "id": "3ac31751",
   "metadata": {},
   "outputs": [
    {
     "data": {
      "text/plain": [
       "lead_source                 128\n",
       "industry                    134\n",
       "number_of_courses_viewed      0\n",
       "annual_income               181\n",
       "employment_status           100\n",
       "location                     63\n",
       "interaction_count             0\n",
       "lead_score                    0\n",
       "converted                     0\n",
       "dtype: int64"
      ]
     },
     "execution_count": 58,
     "metadata": {},
     "output_type": "execute_result"
    }
   ],
   "source": [
    "df.isnull().sum()"
   ]
  },
  {
   "cell_type": "code",
   "execution_count": 59,
   "id": "13593534",
   "metadata": {},
   "outputs": [],
   "source": [
    "numerical = df.select_dtypes(include=['int64', 'float64']).columns.tolist()\n",
    "categorical = df.select_dtypes(include=['object']).columns.tolist()"
   ]
  },
  {
   "cell_type": "code",
   "execution_count": 60,
   "id": "63a4cbf2",
   "metadata": {},
   "outputs": [],
   "source": [
    "df[categorical] = df[categorical].fillna('NA')\n",
    "df[numerical] = df[numerical].fillna(0.0)"
   ]
  },
  {
   "cell_type": "code",
   "execution_count": 61,
   "id": "eaf6abed",
   "metadata": {},
   "outputs": [
    {
     "data": {
      "text/plain": [
       "lead_source                 0\n",
       "industry                    0\n",
       "number_of_courses_viewed    0\n",
       "annual_income               0\n",
       "employment_status           0\n",
       "location                    0\n",
       "interaction_count           0\n",
       "lead_score                  0\n",
       "converted                   0\n",
       "dtype: int64"
      ]
     },
     "execution_count": 61,
     "metadata": {},
     "output_type": "execute_result"
    }
   ],
   "source": [
    "df.isnull().sum()"
   ]
  },
  {
   "cell_type": "code",
   "execution_count": 62,
   "id": "4fb478c3",
   "metadata": {},
   "outputs": [],
   "source": [
    "from sklearn.model_selection import train_test_split\n",
    "\n",
    "df_full_train, df_test = train_test_split(df, test_size=0.20, random_state=1)\n",
    "df_train, df_val = train_test_split(df_full_train, test_size=0.25, random_state=1)"
   ]
  },
  {
   "cell_type": "markdown",
   "id": "b2d6fc9b",
   "metadata": {},
   "source": [
    "# Q1"
   ]
  },
  {
   "cell_type": "code",
   "execution_count": 63,
   "id": "7d2a3a0c",
   "metadata": {},
   "outputs": [],
   "source": [
    "y_train, y_val, y_test = df_train['converted'].values, df_val['converted'].values, df_test['converted'].values\n",
    "df_train, df_val, df_test = df_train.drop(columns=['converted']), df_val.drop(columns=['converted']), df_test.drop(columns=['converted'])"
   ]
  },
  {
   "cell_type": "code",
   "execution_count": 64,
   "id": "a477c8f4",
   "metadata": {},
   "outputs": [
    {
     "name": "stdout",
     "output_type": "stream",
     "text": [
      "number_of_courses_viewed       AUC = 0.764\n",
      "annual_income                  AUC = 0.552\n",
      "interaction_count              AUC = 0.738\n",
      "lead_score                     AUC = 0.614\n",
      "\n"
     ]
    }
   ],
   "source": [
    "# only check numerical features that exist in df_train (converted was removed earlier)\n",
    "features_to_check = [f for f in numerical if f in df_train.columns]\n",
    "for feature in features_to_check:\n",
    "    scores = df_train[feature].values\n",
    "    auc = roc_auc_score(y_train, scores)\n",
    "    note = ''\n",
    "    if auc < 0.5:\n",
    "        auc = roc_auc_score(y_train, -scores)\n",
    "        note = ' (inverted)'\n",
    "    print(f\"{feature:30s} AUC = {auc:.3f}{note}\")\n",
    "print()\n"
   ]
  },
  {
   "cell_type": "markdown",
   "id": "7ad8046b",
   "metadata": {},
   "source": [
    "# Q2"
   ]
  },
  {
   "cell_type": "code",
   "execution_count": 65,
   "id": "08fd9e80",
   "metadata": {},
   "outputs": [
    {
     "name": "stdout",
     "output_type": "stream",
     "text": [
      "Q2: Validation AUC (round 3): 0.817\n",
      "\n"
     ]
    }
   ],
   "source": [
    "dv = DictVectorizer(sparse=False)\n",
    "X_train = dv.fit_transform(df_train.to_dict(orient='records'))\n",
    "X_val = dv.transform(df_val.to_dict(orient='records'))\n",
    "model = LogisticRegression(solver='liblinear', C=1.0, max_iter=1000)\n",
    "model.fit(X_train, y_train)\n",
    "probs_val = model.predict_proba(X_val)[:,1]\n",
    "auc_val = roc_auc_score(y_val, probs_val)\n",
    "print(\"Q2: Validation AUC (round 3):\", round(auc_val, 3))\n",
    "print()"
   ]
  },
  {
   "cell_type": "markdown",
   "id": "d3d01263",
   "metadata": {},
   "source": [
    "# Q3"
   ]
  },
  {
   "cell_type": "code",
   "execution_count": 66,
   "id": "e370a190",
   "metadata": {},
   "outputs": [
    {
     "data": {
      "image/png": "[encoded data removed]",
      "text/plain": [
       "<Figure size 800x500 with 1 Axes>"
      ]
     },
     "metadata": {},
     "output_type": "display_data"
    },
    {
     "name": "stdout",
     "output_type": "stream",
     "text": [
      "Threshold where precision ≈ recall: 0.98\n"
     ]
    }
   ],
   "source": [
    "import matplotlib.pyplot as plt\n",
    "ths = np.arange(0.0, 1.01, 0.01)\n",
    "precisions = []\n",
    "recalls = []\n",
    "for t in ths:\n",
    "    preds = (probs_val >= t).astype(int)\n",
    "    precisions.append(precision_score(y_val, preds, zero_division=0))\n",
    "    recalls.append(recall_score(y_val, preds))\n",
    "\n",
    "precisions = np.array(precisions)\n",
    "recalls = np.array(recalls)\n",
    "\n",
    "# find threshold where precision ≈ recall\n",
    "idx = np.argmin(np.abs(precisions - recalls))\n",
    "threshold = round(ths[idx], 3)\n",
    "\n",
    "plt.figure(figsize=(8,5))\n",
    "plt.plot(ths, precisions, label='Precision')\n",
    "plt.plot(ths, recalls, label='Recall')\n",
    "plt.axvline(ths[idx], color='gray', linestyle='--', label=f'Intersection = {threshold}')\n",
    "plt.xlabel('Threshold')\n",
    "plt.ylabel('Score')\n",
    "plt.legend()\n",
    "plt.grid(True)\n",
    "plt.show()\n",
    "\n",
    "print(\"Threshold where precision ≈ recall:\", threshold)"
   ]
  },
  {
   "cell_type": "markdown",
   "id": "4fa3f9ac",
   "metadata": {},
   "source": [
    "# Q4"
   ]
  },
  {
   "cell_type": "code",
   "execution_count": 67,
   "id": "bdb0b87e",
   "metadata": {},
   "outputs": [
    {
     "name": "stdout",
     "output_type": "stream",
     "text": [
      "Q4: best threshold (max F1): 0.57\n",
      "\n"
     ]
    }
   ],
   "source": [
    "f1 = 2 * precisions * recalls / (precisions + recalls + 1e-12)\n",
    "best_idx = np.nanargmax(f1)\n",
    "print(\"Q4: best threshold (max F1):\", round(ths[best_idx], 2))\n",
    "print()"
   ]
  },
  {
   "cell_type": "markdown",
   "id": "5058fed8",
   "metadata": {},
   "source": [
    "# Q5"
   ]
  },
  {
   "cell_type": "code",
   "execution_count": 68,
   "id": "4d9e57bf",
   "metadata": {},
   "outputs": [
    {
     "name": "stdout",
     "output_type": "stream",
     "text": [
      "Q5: std of AUCs across folds: 0.03580711942905165\n",
      "Fold AUCs: [0.806 0.871 0.775 0.802 0.856]\n",
      "\n"
     ]
    }
   ],
   "source": [
    "kf = KFold(n_splits=5, shuffle=True, random_state=1)\n",
    "aucs = []\n",
    "for train_idx, val_idx in kf.split(df_full_train):\n",
    "    df_tr = df_full_train.iloc[train_idx].copy()\n",
    "    df_va = df_full_train.iloc[val_idx].copy()\n",
    "    y_tr = df_tr['converted'].values; y_va = df_va['converted'].values\n",
    "    df_tr = df_tr.drop(columns=['converted'])\n",
    "    df_va = df_va.drop(columns=['converted'])\n",
    "    dv = DictVectorizer(sparse=False)\n",
    "    X_tr = dv.fit_transform(df_tr.to_dict('records'))\n",
    "    X_va = dv.transform(df_va.to_dict('records'))\n",
    "    model_cv = LogisticRegression(solver='liblinear', C=1.0, max_iter=1000)\n",
    "    model_cv.fit(X_tr, y_tr)\n",
    "    aucs.append(roc_auc_score(y_va, model_cv.predict_proba(X_va)[:,1]))\n",
    "aucs = np.array(aucs)\n",
    "print(\"Q5: std of AUCs across folds:\", np.std(aucs))\n",
    "print(\"Fold AUCs:\", np.round(aucs, 3))\n",
    "print()"
   ]
  },
  {
   "cell_type": "markdown",
   "id": "2fdf74fd",
   "metadata": {},
   "source": [
    "# Q6"
   ]
  },
  {
   "cell_type": "code",
   "execution_count": 70,
   "id": "eb1c9cbe",
   "metadata": {},
   "outputs": [
    {
     "name": "stdout",
     "output_type": "stream",
     "text": [
      "Q6: mean and std for each C (round 3):\n",
      "C=1e-06     mean=0.560 std=0.024\n",
      "C=0.001     mean=0.867 std=0.029\n",
      "C=1         mean=0.822 std=0.036\n",
      "Q6: best C: 0.001\n"
     ]
    }
   ],
   "source": [
    "Cs = [1e-6, 0.001, 1]\n",
    "res = {}\n",
    "for C in Cs:\n",
    "    scores = []\n",
    "    for train_idx, val_idx in kf.split(df_full_train):\n",
    "        df_tr = df_full_train.iloc[train_idx].copy()\n",
    "        df_va = df_full_train.iloc[val_idx].copy()\n",
    "        y_tr = df_tr['converted'].values; y_va = df_va['converted'].values\n",
    "        df_tr = df_tr.drop(columns=['converted'])\n",
    "        df_va = df_va.drop(columns=['converted'])\n",
    "        dv = DictVectorizer(sparse=False)\n",
    "        X_tr = dv.fit_transform(df_tr.to_dict('records'))\n",
    "        X_va = dv.transform(df_va.to_dict('records'))\n",
    "        model_c = LogisticRegression(solver='liblinear', C=C, max_iter=1000)\n",
    "        model_c.fit(X_tr, y_tr)\n",
    "        scores.append(roc_auc_score(y_va, model_c.predict_proba(X_va)[:,1]))\n",
    "    res[C] = (np.mean(scores), np.std(scores))\n",
    "\n",
    "print(\"Q6: mean and std for each C (round 3):\")\n",
    "for C,(m,s) in res.items():\n",
    "    print(f\"C={C:<9} mean={m:.3f} std={s:.3f}\")\n",
    "\n",
    "# choose best C: highest mean, tie-breaker = lowest std, then smallest C\n",
    "best = sorted(res.items(), key=lambda x:(-round(x[1][0],3), round(x[1][1],3), x[0]))[0][0]\n",
    "print(\"Q6: best C:\", best)\n",
    "# ...existing code..."
   ]
  }
 ],
 "metadata": {
  "kernelspec": {
   "display_name": "Python 3",
   "language": "python",
   "name": "python3"
  },
  "language_info": {
   "codemirror_mode": {
    "name": "ipython",
    "version": 3
   },
   "file_extension": ".py",
   "mimetype": "text/x-python",
   "name": "python",
   "nbconvert_exporter": "python",
   "pygments_lexer": "ipython3",
   "version": "3.11.9"
  }
 },
 "nbformat": 4,
 "nbformat_minor": 5
}
